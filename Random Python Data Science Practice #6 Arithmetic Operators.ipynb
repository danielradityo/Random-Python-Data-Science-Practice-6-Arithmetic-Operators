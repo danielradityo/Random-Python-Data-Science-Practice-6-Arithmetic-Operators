{
 "cells": [
  {
   "cell_type": "markdown",
   "metadata": {},
   "source": [
    "# Random Python Data Science Practice #5"
   ]
  },
  {
   "cell_type": "markdown",
   "metadata": {},
   "source": [
    "## Arithmetic Operators"
   ]
  },
  {
   "cell_type": "code",
   "execution_count": 8,
   "metadata": {},
   "outputs": [
    {
     "name": "stdout",
     "output_type": "stream",
     "text": [
      "Please input a number (1-9): 9\n"
     ]
    }
   ],
   "source": [
    "# Several Arithmetic Operators\n",
    "a = 1 # --> integer\n",
    "b = 3 # --> integer\n",
    "c = int(input(\"Please input a number (1-9): \")) # --> Input variable with integer"
   ]
  },
  {
   "cell_type": "markdown",
   "metadata": {},
   "source": [
    "## Addition"
   ]
  },
  {
   "cell_type": "code",
   "execution_count": 9,
   "metadata": {},
   "outputs": [
    {
     "name": "stdout",
     "output_type": "stream",
     "text": [
      "a plus b plus c =  13\n"
     ]
    }
   ],
   "source": [
    "d = a + b + c # --? addtion arithmetic operators\n",
    "print('a plus b plus c = ', d) # --> Result Addition"
   ]
  },
  {
   "cell_type": "markdown",
   "metadata": {},
   "source": [
    "## Subtraction"
   ]
  },
  {
   "cell_type": "code",
   "execution_count": 10,
   "metadata": {},
   "outputs": [
    {
     "name": "stdout",
     "output_type": "stream",
     "text": [
      "a minus b minus c =  -11\n"
     ]
    }
   ],
   "source": [
    "d = a - b - c # --? subtraction arithmetic operators\n",
    "print('a minus b minus c = ', d) # --> Result subtraction"
   ]
  },
  {
   "cell_type": "markdown",
   "metadata": {},
   "source": [
    "## Multiplication"
   ]
  },
  {
   "cell_type": "code",
   "execution_count": 11,
   "metadata": {},
   "outputs": [
    {
     "name": "stdout",
     "output_type": "stream",
     "text": [
      "a multiply b multiply c =  27\n"
     ]
    }
   ],
   "source": [
    "d = a * b * c # --? multiplication arithmetic operators\n",
    "print('a multiply b multiply c = ', d) # --> Result multiplication"
   ]
  },
  {
   "cell_type": "markdown",
   "metadata": {},
   "source": [
    "## Division"
   ]
  },
  {
   "cell_type": "code",
   "execution_count": 12,
   "metadata": {},
   "outputs": [
    {
     "name": "stdout",
     "output_type": "stream",
     "text": [
      "a divided b divided c =  0.037037037037037035\n"
     ]
    }
   ],
   "source": [
    "d = a / b / c # --? division arithmetic operators\n",
    "print('a divided b divided c = ', d) # --> Result division"
   ]
  }
 ],
 "metadata": {
  "kernelspec": {
   "display_name": "Python 3",
   "language": "python",
   "name": "python3"
  },
  "language_info": {
   "codemirror_mode": {
    "name": "ipython",
    "version": 3
   },
   "file_extension": ".py",
   "mimetype": "text/x-python",
   "name": "python",
   "nbconvert_exporter": "python",
   "pygments_lexer": "ipython3",
   "version": "3.8.5"
  }
 },
 "nbformat": 4,
 "nbformat_minor": 4
}
